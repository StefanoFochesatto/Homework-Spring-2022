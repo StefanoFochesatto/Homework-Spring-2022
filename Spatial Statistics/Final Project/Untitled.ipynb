{
 "cells": [
  {
   "cell_type": "code",
   "execution_count": 2,
   "id": "f3bdb0c7",
   "metadata": {},
   "outputs": [],
   "source": [
    "import pandas as pd\n",
    "import numpy as np"
   ]
  },
  {
   "cell_type": "code",
   "execution_count": 12,
   "id": "8febea3b",
   "metadata": {},
   "outputs": [],
   "source": [
    "Train = pd.read_csv('ptarmigangbif_trainFH2OVRLcPRESBACK.csv')\n",
    "Train = Train.drop(['id','FID'], axis = 1)\n",
    "Presence = pd.read_csv('ptarmigan_transect_test.csv')\n",
    "Lattice = pd.read_csv('regpoints1000FH2seloOVRLbXYc.csv')\n",
    "Lattice = Lattice.drop(['veg250prj'],axis=1)\n",
    "Lattice = Lattice.dropna()\n",
    "\n",
    "\n",
    "## Import PyProj library to convert to LAT and LON\n",
    "from pyproj import Transformer\n",
    "transformer = Transformer.from_crs('epsg:8088', 'epsg:4326')\n",
    "PresenceLat, PresenceLon = transformer.transform(Presence['x'],Presence['y'])\n",
    "PredictLat, PredictLon = transformer.transform(Lattice['POINT_X'],Lattice['POINT_Y'])\n",
    "\n",
    "## Save Converted Coordinates in Respective Dataframes\n",
    "Presence['lat'] = PresenceLat\n",
    "Presence['long'] = PresenceLon\n",
    "Lattice['lat'] = PredictLat\n",
    "Lattice['long'] = PredictLon\n"
   ]
  },
  {
   "cell_type": "code",
   "execution_count": 13,
   "id": "71e0d7c3",
   "metadata": {},
   "outputs": [],
   "source": [
    "Lattice.to_csv('LatticeWLatLong')\n",
    "Presence.to_csv('PresenceWLatLong')"
   ]
  },
  {
   "cell_type": "code",
   "execution_count": null,
   "id": "8b9b2e94",
   "metadata": {},
   "outputs": [],
   "source": []
  }
 ],
 "metadata": {
  "kernelspec": {
   "display_name": "Python 3 (ipykernel)",
   "language": "python",
   "name": "python3"
  },
  "language_info": {
   "codemirror_mode": {
    "name": "ipython",
    "version": 3
   },
   "file_extension": ".py",
   "mimetype": "text/x-python",
   "name": "python",
   "nbconvert_exporter": "python",
   "pygments_lexer": "ipython3",
   "version": "3.8.8"
  }
 },
 "nbformat": 4,
 "nbformat_minor": 5
}
