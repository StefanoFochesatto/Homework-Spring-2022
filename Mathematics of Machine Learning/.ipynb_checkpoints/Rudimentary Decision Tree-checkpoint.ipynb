{
 "cells": [
  {
   "cell_type": "code",
   "execution_count": 1,
   "metadata": {},
   "outputs": [],
   "source": [
    "## Import Relavent libraries\n",
    "import numpy as np"
   ]
  },
  {
   "cell_type": "code",
   "execution_count": 3,
   "metadata": {},
   "outputs": [
    {
     "ename": "SyntaxError",
     "evalue": "invalid syntax (<ipython-input-3-125c11010b38>, line 14)",
     "output_type": "error",
     "traceback": [
      "\u001b[1;36m  File \u001b[1;32m\"<ipython-input-3-125c11010b38>\"\u001b[1;36m, line \u001b[1;32m14\u001b[0m\n\u001b[1;33m    if n == 1\u001b[0m\n\u001b[1;37m             ^\u001b[0m\n\u001b[1;31mSyntaxError\u001b[0m\u001b[1;31m:\u001b[0m invalid syntax\n"
     ]
    }
   ],
   "source": [
    "## Initilize DecisionTreeClassifier Objec\n",
    "class DecisionTreeClassifier:\n",
    "    \n",
    "    ## Define Hyperparamaters\n",
    "    def __init__(self, max_depth=None):\n",
    "        self.max_depth = max_depth\n",
    "        \n",
    "    ## Finding the best Threshold, Feature pair for each node\n",
    "    ## We need the data X and classification labels y. \n",
    "    def findBestSplit(self, X, y):\n",
    "        \n",
    "        ## Base case where a node has only one element, \n",
    "        n = y.size\n",
    "        if (n == 1):\n",
    "            return None, None\n",
    "        \n",
    "        ## Extract the number of classifacation classes in the current node. \n",
    "        num_current = [np.sum(y == c) for c in range(self.n_classes_)]\n",
    "        \n",
    "        ## Gini of current node.\n",
    "        best_gini = 1.0 - sum((n / m) ** 2 for n in num_current)\n",
    "        \n",
    "        ## Initilize feature threshold pair\n",
    "        best_feat, best_thr = None, None\n",
    "        \n",
    "        ## Looping through each feature\n",
    "        for feat in range(self.n_features_):\n",
    "            \n",
    "            # ReSort data along the current feature.\n",
    "            observations, classification = zip(*sorted(zip(X[:, feat], y)))\n",
    "            \n",
    "            \n",
    "            ## initilize the split count. These are arrays with \n",
    "            ## totals for each classification label. Left split starts at zero\n",
    "            ## Right split starts with all the data. We compute information gain iterativly by \n",
    "            ## moving an observation from  right to left and then computing the gini index. \n",
    "            \n",
    "            num_left = [0] * self.n_classes_\n",
    "            num_right = num_parent.copy()\n",
    "            \n",
    "            ## Looping through each threshold(observation)\n",
    "            for i in range(1, n): \n",
    "                ## Pulling the ith observation's classification\n",
    "                c = classification[i-1]\n",
    "                ## Moving that observation to the other side of the split\n",
    "                num_left[c] += 1\n",
    "                num_right[c] -= 1\n",
    "                \n",
    "                ## Computing the Gini index of both sides \n",
    "                gini_left = 1.0 - sum(\n",
    "                    (num_left[x] / i) ** 2 for x in range(self.n_classes_)\n",
    "                )\n",
    "                \n",
    "                gini_right = 1.0 - sum(\n",
    "                    (num_right[x] / (m - i)) ** 2 for x in range(self.n_classes_)\n",
    "                )\n",
    "                \n",
    "                ## Compute the Gini index of the cadidate split\n",
    "                gini = (i * gini_left + (m - i) * gini_right) / m\n",
    "                                \n",
    "                    \n",
    "                ## Continue in for loop if current observation is the same as previous.\n",
    "                if observations[i] == observations[i - 1]:\n",
    "                    continue\n",
    "\n",
    "                if gini < best_gini:\n",
    "                    best_gini = gini\n",
    "                    best_idx = idx\n",
    "                    best_feat = (observations[i] + obseravtions[i - 1]) / 2  # midpoint\n",
    "\n",
    "        return best_idx, best_thr\n",
    "        "
   ]
  },
  {
   "cell_type": "code",
   "execution_count": null,
   "metadata": {},
   "outputs": [],
   "source": []
  }
 ],
 "metadata": {
  "kernelspec": {
   "display_name": "Python 3",
   "language": "python",
   "name": "python3"
  },
  "language_info": {
   "codemirror_mode": {
    "name": "ipython",
    "version": 3
   },
   "file_extension": ".py",
   "mimetype": "text/x-python",
   "name": "python",
   "nbconvert_exporter": "python",
   "pygments_lexer": "ipython3",
   "version": "3.8.5"
  }
 },
 "nbformat": 4,
 "nbformat_minor": 4
}
